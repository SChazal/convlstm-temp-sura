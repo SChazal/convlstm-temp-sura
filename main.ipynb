{
 "cells": [
  {
   "cell_type": "code",
   "execution_count": 1,
   "metadata": {},
   "outputs": [
    {
     "name": "stderr",
     "output_type": "stream",
     "text": [
      "C:\\Users\\chaud\\AppData\\Local\\Programs\\Python\\Python39\\lib\\site-packages\\setuptools\\distutils_patch.py:25: UserWarning: Distutils was imported before Setuptools. This usage is discouraged and may exhibit undesirable behaviors or errors. Please use Setuptools' objects directly or at least import Setuptools first.\n",
      "  warnings.warn(\n"
     ]
    },
    {
     "name": "stdout",
     "output_type": "stream",
     "text": [
      "x\n"
     ]
    }
   ],
   "source": [
    "import argparse\n",
    "import numpy as np\n",
    "from tqdm import tqdm\n",
    "from earlystopping import EarlyStopping\n",
    "import sys\n",
    "import torch.optim as optim\n",
    "from torch.optim import lr_scheduler\n",
    "from torch import nn\n",
    "import torch\n",
    "from data.seqgen import ClimateData\n",
    "from net_params import convlstm_encoder_params, convlstm_decoder_params\n",
    "from model import ED\n",
    "from decoder import Decoder\n",
    "from encoder import Encoder\n",
    "import os\n",
    "import datetime\n",
    "from torch.utils.tensorboard import SummaryWriter\n",
    "os.environ[\"CUDA_VISIBLE_DEVICES\"] = \"0\"\n",
    "\n",
    "print(\"x\")\n",
    "sys.argv = ['main.py']\n",
    "# TIMESTAMP = str(datetime.datetime.now()).replace(\" \", \"\")\n",
    "TIMESTAMP = 'ref-0'\n",
    "parser = argparse.ArgumentParser()\n",
    "parser.add_argument('-clstm',\n",
    "                    '--convlstm',\n",
    "                    help='use convlstm as base cell',\n",
    "                    action='store_true')\n",
    "parser.add_argument('--batch_size',\n",
    "                    default=1,\n",
    "                    type=int,\n",
    "                    help='mini-batch size')\n",
    "parser.add_argument('-lr', default=1e-4, type=float, help='G learning rate')\n",
    "parser.add_argument('-frames_input',\n",
    "                    default=7,\n",
    "                    type=int,\n",
    "                    help='sum of input frames')\n",
    "parser.add_argument('-frames_output',\n",
    "                    default=1,\n",
    "                    type=int,\n",
    "                    help='sum of predict frames')\n",
    "parser.add_argument('-epochs', default=4, type=int, help='sum of epochs')\n",
    "args = parser.parse_args()\n",
    "\n",
    "random_seed = 1996\n",
    "np.random.seed(random_seed)\n",
    "torch.manual_seed(random_seed)\n",
    "if torch.cuda.device_count() > 1:\n",
    "    torch.cuda.manual_seed_all(random_seed)\n",
    "else:\n",
    "    torch.cuda.manual_seed(random_seed)\n",
    "torch.backends.cudnn.deterministic = True\n",
    "torch.backends.cudnn.benchmark = False\n",
    "\n",
    "save_dir = './save_model/' + TIMESTAMP\n",
    "\n",
    "trainFolder = ClimateData(is_train=True,\n",
    "                          root='data/',\n",
    "                          n_frames_input=args.frames_input,\n",
    "                          n_frames_output=args.frames_output)\n",
    "validFolder = ClimateData(is_train=False,\n",
    "                          root='data/',\n",
    "                          n_frames_input=args.frames_input,\n",
    "                          n_frames_output=args.frames_output)\n",
    "trainLoader = torch.utils.data.DataLoader(trainFolder,\n",
    "                                          batch_size=args.batch_size,\n",
    "                                          shuffle=False)\n",
    "validLoader = torch.utils.data.DataLoader(validFolder,\n",
    "                                          batch_size=args.batch_size,\n",
    "                                          shuffle=False)\n",
    "\n",
    "encoder_params = convlstm_encoder_params\n",
    "decoder_params = convlstm_decoder_params\n"
   ]
  },
  {
   "cell_type": "code",
   "execution_count": 2,
   "metadata": {},
   "outputs": [],
   "source": [
    "device = torch.device(\"cuda:0\" if torch.cuda.is_available() else \"cpu\")\n"
   ]
  },
  {
   "cell_type": "code",
   "execution_count": 3,
   "metadata": {},
   "outputs": [],
   "source": [
    "encoder = Encoder(\n",
    "    convlstm_encoder_params[0], convlstm_encoder_params[1]).cuda()\n",
    "decoder = Decoder(\n",
    "    convlstm_decoder_params[0], convlstm_decoder_params[1]).cuda()\n",
    "model0 = ED(encoder, decoder).cuda()\n",
    "model1 = ED(encoder, decoder).cuda()\n",
    "model2 = ED(encoder, decoder).cuda()\n",
    "model3 = ED(encoder, decoder).cuda()\n",
    "model4 = ED(encoder, decoder).cuda()\n"
   ]
  },
  {
   "cell_type": "code",
   "execution_count": 4,
   "metadata": {},
   "outputs": [
    {
     "data": {
      "text/plain": [
       "ED(\n",
       "  (encoder): Encoder(\n",
       "    (stage1): Sequential(\n",
       "      (conv1_leaky_1): Conv2d(5, 16, kernel_size=(3, 3), stride=(1, 1), padding=(1, 1))\n",
       "      (leaky_conv1_leaky_1): LeakyReLU(negative_slope=0.2, inplace=True)\n",
       "    )\n",
       "    (rnn1): CLSTM_cell(\n",
       "      (conv): Sequential(\n",
       "        (0): Conv2d(80, 256, kernel_size=(5, 5), stride=(1, 1), padding=(2, 2))\n",
       "        (1): GroupNorm(8, 256, eps=1e-05, affine=True)\n",
       "      )\n",
       "    )\n",
       "    (stage2): Sequential(\n",
       "      (conv2_leaky_1): Conv2d(64, 64, kernel_size=(3, 3), stride=(2, 2), padding=(1, 1))\n",
       "      (leaky_conv2_leaky_1): LeakyReLU(negative_slope=0.2, inplace=True)\n",
       "    )\n",
       "    (rnn2): CLSTM_cell(\n",
       "      (conv): Sequential(\n",
       "        (0): Conv2d(160, 384, kernel_size=(5, 5), stride=(1, 1), padding=(2, 2))\n",
       "        (1): GroupNorm(12, 384, eps=1e-05, affine=True)\n",
       "      )\n",
       "    )\n",
       "    (stage3): Sequential(\n",
       "      (conv3_leaky_1): Conv2d(96, 96, kernel_size=(3, 3), stride=(2, 2), padding=(1, 1))\n",
       "      (leaky_conv3_leaky_1): LeakyReLU(negative_slope=0.2, inplace=True)\n",
       "    )\n",
       "    (rnn3): CLSTM_cell(\n",
       "      (conv): Sequential(\n",
       "        (0): Conv2d(192, 384, kernel_size=(5, 5), stride=(1, 1), padding=(2, 2))\n",
       "        (1): GroupNorm(12, 384, eps=1e-05, affine=True)\n",
       "      )\n",
       "    )\n",
       "  )\n",
       "  (decoder): Decoder(\n",
       "    (rnn3): CLSTM_cell(\n",
       "      (conv): Sequential(\n",
       "        (0): Conv2d(192, 384, kernel_size=(5, 5), stride=(1, 1), padding=(2, 2))\n",
       "        (1): GroupNorm(12, 384, eps=1e-05, affine=True)\n",
       "      )\n",
       "    )\n",
       "    (stage3): Sequential(\n",
       "      (deconv1_leaky_1): ConvTranspose2d(96, 96, kernel_size=(3, 4), stride=(2, 2), padding=(1, 1))\n",
       "      (leaky_deconv1_leaky_1): LeakyReLU(negative_slope=0.2, inplace=True)\n",
       "    )\n",
       "    (rnn2): CLSTM_cell(\n",
       "      (conv): Sequential(\n",
       "        (0): Conv2d(192, 384, kernel_size=(5, 5), stride=(1, 1), padding=(2, 2))\n",
       "        (1): GroupNorm(12, 384, eps=1e-05, affine=True)\n",
       "      )\n",
       "    )\n",
       "    (stage2): Sequential(\n",
       "      (deconv2_leaky_1): ConvTranspose2d(96, 96, kernel_size=(3, 4), stride=(2, 2), padding=(1, 1))\n",
       "      (leaky_deconv2_leaky_1): LeakyReLU(negative_slope=0.2, inplace=True)\n",
       "    )\n",
       "    (rnn1): CLSTM_cell(\n",
       "      (conv): Sequential(\n",
       "        (0): Conv2d(160, 256, kernel_size=(5, 5), stride=(1, 1), padding=(2, 2))\n",
       "        (1): GroupNorm(8, 256, eps=1e-05, affine=True)\n",
       "      )\n",
       "    )\n",
       "    (stage1): Sequential(\n",
       "      (conv3_leaky_1): Conv2d(64, 16, kernel_size=(3, 3), stride=(1, 1), padding=(1, 1))\n",
       "      (leaky_conv3_leaky_1): LeakyReLU(negative_slope=0.2, inplace=True)\n",
       "      (conv4_leaky_1): Conv2d(16, 1, kernel_size=(1, 1), stride=(1, 1))\n",
       "      (leaky_conv4_leaky_1): LeakyReLU(negative_slope=0.2, inplace=True)\n",
       "    )\n",
       "  )\n",
       ")"
      ]
     },
     "execution_count": 4,
     "metadata": {},
     "output_type": "execute_result"
    }
   ],
   "source": [
    "checkpoint0 = torch.load(\n",
    "    './save_model/factor-0/checkpoint_0_0.000064.pth.tar')\n",
    "model0.load_state_dict(checkpoint0['state_dict'])\n",
    "### now you can evaluate it\n",
    "model0.eval()\n",
    "checkpoint1 = torch.load(\n",
    "    './save_model/factor-1/checkpoint_0_0.000051.pth.tar')\n",
    "model1.load_state_dict(checkpoint1['state_dict'])\n",
    "### now you can evaluate it\n",
    "model1.eval()\n",
    "checkpoint2 = torch.load(\n",
    "    './save_model/factor-2/checkpoint_0_0.000533.pth.tar')\n",
    "model2.load_state_dict(checkpoint2['state_dict'])\n",
    "### now you can evaluate it\n",
    "model2.eval()\n",
    "checkpoint3 = torch.load(\n",
    "    './save_model/factor-3/checkpoint_0_0.000020.pth.tar')\n",
    "model3.load_state_dict(checkpoint3['state_dict'])\n",
    "### now you can evaluate it\n",
    "model3.eval()\n",
    "checkpoint4 = torch.load(\n",
    "    './save_model/factor-4/checkpoint_0_0.000021.pth.tar')\n",
    "model4.load_state_dict(checkpoint4['state_dict'])\n",
    "### now you can evaluate it\n",
    "model4.eval()\n"
   ]
  },
  {
   "cell_type": "code",
   "execution_count": 5,
   "metadata": {},
   "outputs": [
    {
     "name": "stderr",
     "output_type": "stream",
     "text": [
      "  0%|          | 0/100 [00:00<?, ?it/s]"
     ]
    },
    {
     "name": "stdout",
     "output_type": "stream",
     "text": [
      "xtl\n"
     ]
    },
    {
     "name": "stderr",
     "output_type": "stream",
     "text": []
    }
   ],
   "source": [
    "t = tqdm(validLoader, leave=False, total=len(validLoader))\n",
    "for i, (idx, targetVar, inputVar, _, _) in enumerate(t):\n",
    "    inputs = inputVar.to(device)  # B,S,C,H,W\n",
    "    label = targetVar.to(device)  # B,S,C,H,W\n",
    "    print(\"xtl\")\n",
    "    model0.load_state_dict(checkpoint0['state_dict'])\n",
    "    ### now you can evaluate it\n",
    "    model0.eval()\n",
    "    pred0 = model0(inputs)  # B,S,C,H,W\n",
    "    break\n"
   ]
  },
  {
   "cell_type": "code",
   "execution_count": 6,
   "metadata": {},
   "outputs": [
    {
     "data": {
      "text/plain": [
       "torch.Size([1, 1, 1, 73, 144])"
      ]
     },
     "execution_count": 6,
     "metadata": {},
     "output_type": "execute_result"
    }
   ],
   "source": [
    "pred0.shape"
   ]
  },
  {
   "cell_type": "code",
   "execution_count": 7,
   "metadata": {},
   "outputs": [],
   "source": [
    "np.save('predsf0', pred0.detach().cpu())\n"
   ]
  },
  {
   "cell_type": "code",
   "execution_count": 11,
   "metadata": {},
   "outputs": [],
   "source": [
    "np.save('labelsf0', label.detach().cpu())\n"
   ]
  },
  {
   "cell_type": "code",
   "execution_count": 12,
   "metadata": {},
   "outputs": [],
   "source": [
    "np.save('inputsf0', inputs.detach().cpu())\n"
   ]
  },
  {
   "cell_type": "code",
   "execution_count": 7,
   "metadata": {},
   "outputs": [
    {
     "data": {
      "text/plain": [
       "tensor([[[[[0.2623, 0.2648, 0.2672,  ..., 0.2656, 0.2660, 0.2638],\n",
       "           [0.2649, 0.2670, 0.2688,  ..., 0.2662, 0.2668, 0.2673],\n",
       "           [0.2671, 0.2684, 0.2699,  ..., 0.2683, 0.2677, 0.2685],\n",
       "           ...,\n",
       "           [0.2278, 0.2275, 0.2280,  ..., 0.2291, 0.2280, 0.2279],\n",
       "           [0.2278, 0.2267, 0.2260,  ..., 0.2273, 0.2276, 0.2263],\n",
       "           [0.2264, 0.2259, 0.2256,  ..., 0.2248, 0.2247, 0.2260]]]]],\n",
       "       device='cuda:0', grad_fn=<TransposeBackward0>)"
      ]
     },
     "execution_count": 7,
     "metadata": {},
     "output_type": "execute_result"
    }
   ],
   "source": [
    "pred0"
   ]
  },
  {
   "cell_type": "code",
   "execution_count": null,
   "metadata": {},
   "outputs": [],
   "source": []
  }
 ],
 "metadata": {
  "interpreter": {
   "hash": "861c5bf73dcf9b43f4453761b4a57b0b4022ed5290638abc614fb1d7c1e5d410"
  },
  "kernelspec": {
   "display_name": "Python 3.9.4 64-bit",
   "name": "python3"
  },
  "language_info": {
   "codemirror_mode": {
    "name": "ipython",
    "version": 3
   },
   "file_extension": ".py",
   "mimetype": "text/x-python",
   "name": "python",
   "nbconvert_exporter": "python",
   "pygments_lexer": "ipython3",
   "version": "3.9.4"
  },
  "orig_nbformat": 4
 },
 "nbformat": 4,
 "nbformat_minor": 2
}
